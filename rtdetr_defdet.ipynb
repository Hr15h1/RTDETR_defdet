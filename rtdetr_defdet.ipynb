{
 "cells": [
  {
   "cell_type": "markdown",
   "id": "08194947",
   "metadata": {},
   "source": [
    "Defect Detection using Real Time Detection Transformer"
   ]
  },
  {
   "cell_type": "code",
   "execution_count": null,
   "id": "97350558",
   "metadata": {},
   "outputs": [],
   "source": [
    "from roboflow import Roboflow\n",
    "\n"
   ]
  }
 ],
 "metadata": {
  "language_info": {
   "name": "python"
  }
 },
 "nbformat": 4,
 "nbformat_minor": 5
}
